{
 "cells": [
  {
   "cell_type": "markdown",
   "id": "51249172",
   "metadata": {
    "papermill": {
     "duration": 0.005095,
     "end_time": "2025-04-26T05:20:12.888604",
     "exception": false,
     "start_time": "2025-04-26T05:20:12.883509",
     "status": "completed"
    },
    "tags": []
   },
   "source": [
    "# Importing Necessary libraries"
   ]
  },
  {
   "cell_type": "code",
   "execution_count": 1,
   "id": "88afd752",
   "metadata": {
    "execution": {
     "iopub.execute_input": "2025-04-26T05:20:12.898590Z",
     "iopub.status.busy": "2025-04-26T05:20:12.898285Z",
     "iopub.status.idle": "2025-04-26T05:20:16.831181Z",
     "shell.execute_reply": "2025-04-26T05:20:16.830317Z"
    },
    "papermill": {
     "duration": 3.939683,
     "end_time": "2025-04-26T05:20:16.832793",
     "exception": false,
     "start_time": "2025-04-26T05:20:12.893110",
     "status": "completed"
    },
    "tags": []
   },
   "outputs": [],
   "source": [
    "import pandas as pd\n",
    "import string\n",
    "import numpy as np\n",
    "from sklearn.model_selection import train_test_split\n",
    "from sklearn.feature_extraction.text import ENGLISH_STOP_WORDS\n",
    "from sklearn.feature_extraction.text import CountVectorizer\n",
    "from sklearn.naive_bayes import MultinomialNB\n",
    "from sklearn.metrics import accuracy_score, classification_report\n",
    "from sklearn.metrics import confusion_matrix\n",
    "import matplotlib.pyplot as plt\n",
    "from nltk.tokenize import word_tokenize  \n",
    "from nltk.stem import WordNetLemmatizer "
   ]
  },
  {
   "cell_type": "markdown",
   "id": "2748649e",
   "metadata": {
    "papermill": {
     "duration": 0.004045,
     "end_time": "2025-04-26T05:20:16.841300",
     "exception": false,
     "start_time": "2025-04-26T05:20:16.837255",
     "status": "completed"
    },
    "tags": []
   },
   "source": [
    "# Load Dataset"
   ]
  },
  {
   "cell_type": "code",
   "execution_count": 2,
   "id": "4aac70a9",
   "metadata": {
    "execution": {
     "iopub.execute_input": "2025-04-26T05:20:16.851464Z",
     "iopub.status.busy": "2025-04-26T05:20:16.850555Z",
     "iopub.status.idle": "2025-04-26T05:20:16.929871Z",
     "shell.execute_reply": "2025-04-26T05:20:16.928959Z"
    },
    "papermill": {
     "duration": 0.085946,
     "end_time": "2025-04-26T05:20:16.931344",
     "exception": false,
     "start_time": "2025-04-26T05:20:16.845398",
     "status": "completed"
    },
    "tags": []
   },
   "outputs": [
    {
     "data": {
      "text/html": [
       "<div>\n",
       "<style scoped>\n",
       "    .dataframe tbody tr th:only-of-type {\n",
       "        vertical-align: middle;\n",
       "    }\n",
       "\n",
       "    .dataframe tbody tr th {\n",
       "        vertical-align: top;\n",
       "    }\n",
       "\n",
       "    .dataframe thead th {\n",
       "        text-align: right;\n",
       "    }\n",
       "</style>\n",
       "<table border=\"1\" class=\"dataframe\">\n",
       "  <thead>\n",
       "    <tr style=\"text-align: right;\">\n",
       "      <th></th>\n",
       "      <th>tweet_text</th>\n",
       "      <th>emotion_in_tweet_is_directed_at</th>\n",
       "      <th>is_there_an_emotion_directed_at_a_brand_or_product</th>\n",
       "    </tr>\n",
       "  </thead>\n",
       "  <tbody>\n",
       "    <tr>\n",
       "      <th>0</th>\n",
       "      <td>.@wesley83 I have a 3G iPhone. After 3 hrs twe...</td>\n",
       "      <td>iPhone</td>\n",
       "      <td>Negative emotion</td>\n",
       "    </tr>\n",
       "    <tr>\n",
       "      <th>1</th>\n",
       "      <td>@jessedee Know about @fludapp ? Awesome iPad/i...</td>\n",
       "      <td>iPad or iPhone App</td>\n",
       "      <td>Positive emotion</td>\n",
       "    </tr>\n",
       "    <tr>\n",
       "      <th>2</th>\n",
       "      <td>@swonderlin Can not wait for #iPad 2 also. The...</td>\n",
       "      <td>iPad</td>\n",
       "      <td>Positive emotion</td>\n",
       "    </tr>\n",
       "    <tr>\n",
       "      <th>3</th>\n",
       "      <td>@sxsw I hope this year's festival isn't as cra...</td>\n",
       "      <td>iPad or iPhone App</td>\n",
       "      <td>Negative emotion</td>\n",
       "    </tr>\n",
       "    <tr>\n",
       "      <th>4</th>\n",
       "      <td>@sxtxstate great stuff on Fri #SXSW: Marissa M...</td>\n",
       "      <td>Google</td>\n",
       "      <td>Positive emotion</td>\n",
       "    </tr>\n",
       "  </tbody>\n",
       "</table>\n",
       "</div>"
      ],
      "text/plain": [
       "                                          tweet_text  \\\n",
       "0  .@wesley83 I have a 3G iPhone. After 3 hrs twe...   \n",
       "1  @jessedee Know about @fludapp ? Awesome iPad/i...   \n",
       "2  @swonderlin Can not wait for #iPad 2 also. The...   \n",
       "3  @sxsw I hope this year's festival isn't as cra...   \n",
       "4  @sxtxstate great stuff on Fri #SXSW: Marissa M...   \n",
       "\n",
       "  emotion_in_tweet_is_directed_at  \\\n",
       "0                          iPhone   \n",
       "1              iPad or iPhone App   \n",
       "2                            iPad   \n",
       "3              iPad or iPhone App   \n",
       "4                          Google   \n",
       "\n",
       "  is_there_an_emotion_directed_at_a_brand_or_product  \n",
       "0                                   Negative emotion  \n",
       "1                                   Positive emotion  \n",
       "2                                   Positive emotion  \n",
       "3                                   Negative emotion  \n",
       "4                                   Positive emotion  "
      ]
     },
     "execution_count": 2,
     "metadata": {},
     "output_type": "execute_result"
    }
   ],
   "source": [
    "file_path = '/kaggle/input/brands-and-product-emotions/judge-1377884607_tweet_product_company.csv'\n",
    "data = pd.read_csv(file_path, encoding='ISO-8859-1')\n",
    "\n",
    "data.head()"
   ]
  },
  {
   "cell_type": "markdown",
   "id": "f8be308f",
   "metadata": {
    "papermill": {
     "duration": 0.00411,
     "end_time": "2025-04-26T05:20:16.940185",
     "exception": false,
     "start_time": "2025-04-26T05:20:16.936075",
     "status": "completed"
    },
    "tags": []
   },
   "source": [
    "# Handling Missing Values"
   ]
  },
  {
   "cell_type": "code",
   "execution_count": 3,
   "id": "6e887be3",
   "metadata": {
    "execution": {
     "iopub.execute_input": "2025-04-26T05:20:16.950331Z",
     "iopub.status.busy": "2025-04-26T05:20:16.949666Z",
     "iopub.status.idle": "2025-04-26T05:20:16.968395Z",
     "shell.execute_reply": "2025-04-26T05:20:16.967705Z"
    },
    "papermill": {
     "duration": 0.02525,
     "end_time": "2025-04-26T05:20:16.969680",
     "exception": false,
     "start_time": "2025-04-26T05:20:16.944430",
     "status": "completed"
    },
    "tags": []
   },
   "outputs": [
    {
     "data": {
      "text/plain": [
       "tweet_text                                            0\n",
       "emotion_in_tweet_is_directed_at                       0\n",
       "is_there_an_emotion_directed_at_a_brand_or_product    0\n",
       "dtype: int64"
      ]
     },
     "execution_count": 3,
     "metadata": {},
     "output_type": "execute_result"
    }
   ],
   "source": [
    "data_cleaned = data.dropna(subset=['tweet_text', 'is_there_an_emotion_directed_at_a_brand_or_product'])\n",
    "data_cleaned = data_cleaned.dropna(subset=['emotion_in_tweet_is_directed_at'])\n",
    "\n",
    "data_cleaned.isnull().sum() "
   ]
  },
  {
   "cell_type": "markdown",
   "id": "3c0aecdc",
   "metadata": {
    "papermill": {
     "duration": 0.004105,
     "end_time": "2025-04-26T05:20:16.978256",
     "exception": false,
     "start_time": "2025-04-26T05:20:16.974151",
     "status": "completed"
    },
    "tags": []
   },
   "source": [
    "# Counting Total Number of Sentiments"
   ]
  },
  {
   "cell_type": "code",
   "execution_count": 4,
   "id": "f628ce5b",
   "metadata": {
    "execution": {
     "iopub.execute_input": "2025-04-26T05:20:16.987583Z",
     "iopub.status.busy": "2025-04-26T05:20:16.987311Z",
     "iopub.status.idle": "2025-04-26T05:20:16.996841Z",
     "shell.execute_reply": "2025-04-26T05:20:16.995740Z"
    },
    "papermill": {
     "duration": 0.015769,
     "end_time": "2025-04-26T05:20:16.998116",
     "exception": false,
     "start_time": "2025-04-26T05:20:16.982347",
     "status": "completed"
    },
    "tags": []
   },
   "outputs": [
    {
     "name": "stdout",
     "output_type": "stream",
     "text": [
      "is_there_an_emotion_directed_at_a_brand_or_product\n",
      "Positive emotion                      2672\n",
      "Negative emotion                       519\n",
      "No emotion toward brand or product      91\n",
      "I can't tell                             9\n",
      "Name: count, dtype: int64\n"
     ]
    }
   ],
   "source": [
    "sentiment_counts = data_cleaned['is_there_an_emotion_directed_at_a_brand_or_product'].value_counts()\n",
    "print(sentiment_counts)"
   ]
  },
  {
   "cell_type": "markdown",
   "id": "451f4880",
   "metadata": {
    "papermill": {
     "duration": 0.004092,
     "end_time": "2025-04-26T05:20:17.006605",
     "exception": false,
     "start_time": "2025-04-26T05:20:17.002513",
     "status": "completed"
    },
    "tags": []
   },
   "source": [
    "# Text Preprocessing - Lowercasing"
   ]
  },
  {
   "cell_type": "code",
   "execution_count": 5,
   "id": "60a19071",
   "metadata": {
    "execution": {
     "iopub.execute_input": "2025-04-26T05:20:17.016174Z",
     "iopub.status.busy": "2025-04-26T05:20:17.015644Z",
     "iopub.status.idle": "2025-04-26T05:20:17.022889Z",
     "shell.execute_reply": "2025-04-26T05:20:17.021987Z"
    },
    "papermill": {
     "duration": 0.013595,
     "end_time": "2025-04-26T05:20:17.024340",
     "exception": false,
     "start_time": "2025-04-26T05:20:17.010745",
     "status": "completed"
    },
    "tags": []
   },
   "outputs": [],
   "source": [
    "def to_lowercase(text):\n",
    "    return text.lower()\n",
    "\n",
    "data_cleaned['cleaned_tweet_text'] = data_cleaned['tweet_text'].apply(to_lowercase)"
   ]
  },
  {
   "cell_type": "markdown",
   "id": "86cc63a8",
   "metadata": {
    "papermill": {
     "duration": 0.004079,
     "end_time": "2025-04-26T05:20:17.032803",
     "exception": false,
     "start_time": "2025-04-26T05:20:17.028724",
     "status": "completed"
    },
    "tags": []
   },
   "source": [
    "# Text Preprocessing - Removing Punctuation"
   ]
  },
  {
   "cell_type": "code",
   "execution_count": 6,
   "id": "2350627e",
   "metadata": {
    "execution": {
     "iopub.execute_input": "2025-04-26T05:20:17.042141Z",
     "iopub.status.busy": "2025-04-26T05:20:17.041814Z",
     "iopub.status.idle": "2025-04-26T05:20:17.069994Z",
     "shell.execute_reply": "2025-04-26T05:20:17.069086Z"
    },
    "papermill": {
     "duration": 0.034426,
     "end_time": "2025-04-26T05:20:17.071362",
     "exception": false,
     "start_time": "2025-04-26T05:20:17.036936",
     "status": "completed"
    },
    "tags": []
   },
   "outputs": [],
   "source": [
    "def remove_punctuation(text):\n",
    "    return ''.join([char for char in text if char not in string.punctuation])\n",
    "\n",
    "data_cleaned['cleaned_tweet_text'] = data_cleaned['cleaned_tweet_text'].apply(remove_punctuation)"
   ]
  },
  {
   "cell_type": "markdown",
   "id": "e3139f37",
   "metadata": {
    "papermill": {
     "duration": 0.004466,
     "end_time": "2025-04-26T05:20:17.080361",
     "exception": false,
     "start_time": "2025-04-26T05:20:17.075895",
     "status": "completed"
    },
    "tags": []
   },
   "source": [
    "#  Text Preprocessing - Removing Stopwords"
   ]
  },
  {
   "cell_type": "code",
   "execution_count": 7,
   "id": "2f6e90ad",
   "metadata": {
    "execution": {
     "iopub.execute_input": "2025-04-26T05:20:17.090267Z",
     "iopub.status.busy": "2025-04-26T05:20:17.089424Z",
     "iopub.status.idle": "2025-04-26T05:20:17.105907Z",
     "shell.execute_reply": "2025-04-26T05:20:17.105004Z"
    },
    "papermill": {
     "duration": 0.022928,
     "end_time": "2025-04-26T05:20:17.107402",
     "exception": false,
     "start_time": "2025-04-26T05:20:17.084474",
     "status": "completed"
    },
    "tags": []
   },
   "outputs": [],
   "source": [
    "def remove_stopwords(text):\n",
    "    return ' '.join([word for word in text.split() if word not in ENGLISH_STOP_WORDS])\n",
    "\n",
    "data_cleaned['cleaned_tweet_text'] = data_cleaned['cleaned_tweet_text'].apply(remove_stopwords)"
   ]
  },
  {
   "cell_type": "markdown",
   "id": "8656f3d9",
   "metadata": {
    "papermill": {
     "duration": 0.004134,
     "end_time": "2025-04-26T05:20:17.115931",
     "exception": false,
     "start_time": "2025-04-26T05:20:17.111797",
     "status": "completed"
    },
    "tags": []
   },
   "source": [
    "# Text Preprocessing - Lemmatization"
   ]
  },
  {
   "cell_type": "code",
   "execution_count": 8,
   "id": "2bb04b6f",
   "metadata": {
    "execution": {
     "iopub.execute_input": "2025-04-26T05:20:17.125371Z",
     "iopub.status.busy": "2025-04-26T05:20:17.125107Z",
     "iopub.status.idle": "2025-04-26T05:20:20.716280Z",
     "shell.execute_reply": "2025-04-26T05:20:20.715506Z"
    },
    "papermill": {
     "duration": 3.597856,
     "end_time": "2025-04-26T05:20:20.717921",
     "exception": false,
     "start_time": "2025-04-26T05:20:17.120065",
     "status": "completed"
    },
    "tags": []
   },
   "outputs": [],
   "source": [
    "lemmatizer = WordNetLemmatizer()\n",
    "\n",
    "def lemmatize_text(text):\n",
    "    tokens = word_tokenize(text)  \n",
    "    lemmatized = [lemmatizer.lemmatize(token) for token in tokens] \n",
    "    return ' '.join(lemmatized)\n",
    "\n",
    "data_cleaned['cleaned_tweet_text'] = data_cleaned['cleaned_tweet_text'].apply(lemmatize_text)"
   ]
  },
  {
   "cell_type": "markdown",
   "id": "80802d61",
   "metadata": {
    "papermill": {
     "duration": 0.004265,
     "end_time": "2025-04-26T05:20:20.726875",
     "exception": false,
     "start_time": "2025-04-26T05:20:20.722610",
     "status": "completed"
    },
    "tags": []
   },
   "source": [
    "# Splitting Data into Features and Target"
   ]
  },
  {
   "cell_type": "code",
   "execution_count": 9,
   "id": "1e1a75ee",
   "metadata": {
    "execution": {
     "iopub.execute_input": "2025-04-26T05:20:20.736497Z",
     "iopub.status.busy": "2025-04-26T05:20:20.736208Z",
     "iopub.status.idle": "2025-04-26T05:20:20.740396Z",
     "shell.execute_reply": "2025-04-26T05:20:20.739648Z"
    },
    "papermill": {
     "duration": 0.010559,
     "end_time": "2025-04-26T05:20:20.741687",
     "exception": false,
     "start_time": "2025-04-26T05:20:20.731128",
     "status": "completed"
    },
    "tags": []
   },
   "outputs": [],
   "source": [
    "X = data_cleaned['cleaned_tweet_text']\n",
    "y = data_cleaned['is_there_an_emotion_directed_at_a_brand_or_product']"
   ]
  },
  {
   "cell_type": "markdown",
   "id": "cdae2720",
   "metadata": {
    "papermill": {
     "duration": 0.004276,
     "end_time": "2025-04-26T05:20:20.750426",
     "exception": false,
     "start_time": "2025-04-26T05:20:20.746150",
     "status": "completed"
    },
    "tags": []
   },
   "source": [
    "# Train-Test Split"
   ]
  },
  {
   "cell_type": "code",
   "execution_count": 10,
   "id": "737d3be0",
   "metadata": {
    "execution": {
     "iopub.execute_input": "2025-04-26T05:20:20.760171Z",
     "iopub.status.busy": "2025-04-26T05:20:20.759849Z",
     "iopub.status.idle": "2025-04-26T05:20:20.766840Z",
     "shell.execute_reply": "2025-04-26T05:20:20.766178Z"
    },
    "papermill": {
     "duration": 0.01367,
     "end_time": "2025-04-26T05:20:20.768357",
     "exception": false,
     "start_time": "2025-04-26T05:20:20.754687",
     "status": "completed"
    },
    "tags": []
   },
   "outputs": [],
   "source": [
    "X_train, X_test, y_train, y_test = train_test_split(X, y, test_size=0.2, random_state=42)"
   ]
  },
  {
   "cell_type": "markdown",
   "id": "ec057e70",
   "metadata": {
    "papermill": {
     "duration": 0.004325,
     "end_time": "2025-04-26T05:20:20.777189",
     "exception": false,
     "start_time": "2025-04-26T05:20:20.772864",
     "status": "completed"
    },
    "tags": []
   },
   "source": [
    "# Text Vectorization: Converting Text to Features"
   ]
  },
  {
   "cell_type": "code",
   "execution_count": 11,
   "id": "95f5fbd5",
   "metadata": {
    "execution": {
     "iopub.execute_input": "2025-04-26T05:20:20.787105Z",
     "iopub.status.busy": "2025-04-26T05:20:20.786576Z",
     "iopub.status.idle": "2025-04-26T05:20:20.841183Z",
     "shell.execute_reply": "2025-04-26T05:20:20.840255Z"
    },
    "papermill": {
     "duration": 0.061287,
     "end_time": "2025-04-26T05:20:20.842844",
     "exception": false,
     "start_time": "2025-04-26T05:20:20.781557",
     "status": "completed"
    },
    "tags": []
   },
   "outputs": [],
   "source": [
    "vectorizer = CountVectorizer()\n",
    "X_train_vectorized = vectorizer.fit_transform(X_train)\n",
    "X_test_vectorized = vectorizer.transform(X_test)"
   ]
  },
  {
   "cell_type": "markdown",
   "id": "5b739718",
   "metadata": {
    "papermill": {
     "duration": 0.004221,
     "end_time": "2025-04-26T05:20:20.851698",
     "exception": false,
     "start_time": "2025-04-26T05:20:20.847477",
     "status": "completed"
    },
    "tags": []
   },
   "source": [
    "# Model Training - Naive Bayes Classifier"
   ]
  },
  {
   "cell_type": "code",
   "execution_count": 12,
   "id": "2a75d5e5",
   "metadata": {
    "execution": {
     "iopub.execute_input": "2025-04-26T05:20:20.861640Z",
     "iopub.status.busy": "2025-04-26T05:20:20.860896Z",
     "iopub.status.idle": "2025-04-26T05:20:20.893873Z",
     "shell.execute_reply": "2025-04-26T05:20:20.893061Z"
    },
    "papermill": {
     "duration": 0.039452,
     "end_time": "2025-04-26T05:20:20.895341",
     "exception": false,
     "start_time": "2025-04-26T05:20:20.855889",
     "status": "completed"
    },
    "tags": []
   },
   "outputs": [
    {
     "data": {
      "text/html": [
       "<style>#sk-container-id-1 {color: black;background-color: white;}#sk-container-id-1 pre{padding: 0;}#sk-container-id-1 div.sk-toggleable {background-color: white;}#sk-container-id-1 label.sk-toggleable__label {cursor: pointer;display: block;width: 100%;margin-bottom: 0;padding: 0.3em;box-sizing: border-box;text-align: center;}#sk-container-id-1 label.sk-toggleable__label-arrow:before {content: \"▸\";float: left;margin-right: 0.25em;color: #696969;}#sk-container-id-1 label.sk-toggleable__label-arrow:hover:before {color: black;}#sk-container-id-1 div.sk-estimator:hover label.sk-toggleable__label-arrow:before {color: black;}#sk-container-id-1 div.sk-toggleable__content {max-height: 0;max-width: 0;overflow: hidden;text-align: left;background-color: #f0f8ff;}#sk-container-id-1 div.sk-toggleable__content pre {margin: 0.2em;color: black;border-radius: 0.25em;background-color: #f0f8ff;}#sk-container-id-1 input.sk-toggleable__control:checked~div.sk-toggleable__content {max-height: 200px;max-width: 100%;overflow: auto;}#sk-container-id-1 input.sk-toggleable__control:checked~label.sk-toggleable__label-arrow:before {content: \"▾\";}#sk-container-id-1 div.sk-estimator input.sk-toggleable__control:checked~label.sk-toggleable__label {background-color: #d4ebff;}#sk-container-id-1 div.sk-label input.sk-toggleable__control:checked~label.sk-toggleable__label {background-color: #d4ebff;}#sk-container-id-1 input.sk-hidden--visually {border: 0;clip: rect(1px 1px 1px 1px);clip: rect(1px, 1px, 1px, 1px);height: 1px;margin: -1px;overflow: hidden;padding: 0;position: absolute;width: 1px;}#sk-container-id-1 div.sk-estimator {font-family: monospace;background-color: #f0f8ff;border: 1px dotted black;border-radius: 0.25em;box-sizing: border-box;margin-bottom: 0.5em;}#sk-container-id-1 div.sk-estimator:hover {background-color: #d4ebff;}#sk-container-id-1 div.sk-parallel-item::after {content: \"\";width: 100%;border-bottom: 1px solid gray;flex-grow: 1;}#sk-container-id-1 div.sk-label:hover label.sk-toggleable__label {background-color: #d4ebff;}#sk-container-id-1 div.sk-serial::before {content: \"\";position: absolute;border-left: 1px solid gray;box-sizing: border-box;top: 0;bottom: 0;left: 50%;z-index: 0;}#sk-container-id-1 div.sk-serial {display: flex;flex-direction: column;align-items: center;background-color: white;padding-right: 0.2em;padding-left: 0.2em;position: relative;}#sk-container-id-1 div.sk-item {position: relative;z-index: 1;}#sk-container-id-1 div.sk-parallel {display: flex;align-items: stretch;justify-content: center;background-color: white;position: relative;}#sk-container-id-1 div.sk-item::before, #sk-container-id-1 div.sk-parallel-item::before {content: \"\";position: absolute;border-left: 1px solid gray;box-sizing: border-box;top: 0;bottom: 0;left: 50%;z-index: -1;}#sk-container-id-1 div.sk-parallel-item {display: flex;flex-direction: column;z-index: 1;position: relative;background-color: white;}#sk-container-id-1 div.sk-parallel-item:first-child::after {align-self: flex-end;width: 50%;}#sk-container-id-1 div.sk-parallel-item:last-child::after {align-self: flex-start;width: 50%;}#sk-container-id-1 div.sk-parallel-item:only-child::after {width: 0;}#sk-container-id-1 div.sk-dashed-wrapped {border: 1px dashed gray;margin: 0 0.4em 0.5em 0.4em;box-sizing: border-box;padding-bottom: 0.4em;background-color: white;}#sk-container-id-1 div.sk-label label {font-family: monospace;font-weight: bold;display: inline-block;line-height: 1.2em;}#sk-container-id-1 div.sk-label-container {text-align: center;}#sk-container-id-1 div.sk-container {/* jupyter's `normalize.less` sets `[hidden] { display: none; }` but bootstrap.min.css set `[hidden] { display: none !important; }` so we also need the `!important` here to be able to override the default hidden behavior on the sphinx rendered scikit-learn.org. See: https://github.com/scikit-learn/scikit-learn/issues/21755 */display: inline-block !important;position: relative;}#sk-container-id-1 div.sk-text-repr-fallback {display: none;}</style><div id=\"sk-container-id-1\" class=\"sk-top-container\"><div class=\"sk-text-repr-fallback\"><pre>MultinomialNB()</pre><b>In a Jupyter environment, please rerun this cell to show the HTML representation or trust the notebook. <br />On GitHub, the HTML representation is unable to render, please try loading this page with nbviewer.org.</b></div><div class=\"sk-container\" hidden><div class=\"sk-item\"><div class=\"sk-estimator sk-toggleable\"><input class=\"sk-toggleable__control sk-hidden--visually\" id=\"sk-estimator-id-1\" type=\"checkbox\" checked><label for=\"sk-estimator-id-1\" class=\"sk-toggleable__label sk-toggleable__label-arrow\">MultinomialNB</label><div class=\"sk-toggleable__content\"><pre>MultinomialNB()</pre></div></div></div></div></div>"
      ],
      "text/plain": [
       "MultinomialNB()"
      ]
     },
     "execution_count": 12,
     "metadata": {},
     "output_type": "execute_result"
    }
   ],
   "source": [
    "nb_classifier = MultinomialNB()\n",
    "nb_classifier.fit(X_train_vectorized, y_train)"
   ]
  },
  {
   "cell_type": "markdown",
   "id": "eefd4cbb",
   "metadata": {
    "papermill": {
     "duration": 0.004409,
     "end_time": "2025-04-26T05:20:20.904636",
     "exception": false,
     "start_time": "2025-04-26T05:20:20.900227",
     "status": "completed"
    },
    "tags": []
   },
   "source": [
    "# Model Evaluation"
   ]
  },
  {
   "cell_type": "code",
   "execution_count": 13,
   "id": "438ed28b",
   "metadata": {
    "execution": {
     "iopub.execute_input": "2025-04-26T05:20:20.914499Z",
     "iopub.status.busy": "2025-04-26T05:20:20.914216Z",
     "iopub.status.idle": "2025-04-26T05:20:20.943142Z",
     "shell.execute_reply": "2025-04-26T05:20:20.942195Z"
    },
    "papermill": {
     "duration": 0.035532,
     "end_time": "2025-04-26T05:20:20.944508",
     "exception": false,
     "start_time": "2025-04-26T05:20:20.908976",
     "status": "completed"
    },
    "tags": []
   },
   "outputs": [
    {
     "name": "stdout",
     "output_type": "stream",
     "text": [
      "0.849772382397572\n",
      "                                    precision    recall  f1-score   support\n",
      "\n",
      "                      I can't tell       0.00      0.00      0.00         1\n",
      "                  Negative emotion       0.79      0.30      0.43       105\n",
      "No emotion toward brand or product       0.00      0.00      0.00        18\n",
      "                  Positive emotion       0.85      0.99      0.92       535\n",
      "\n",
      "                          accuracy                           0.85       659\n",
      "                         macro avg       0.41      0.32      0.34       659\n",
      "                      weighted avg       0.82      0.85      0.81       659\n",
      "\n"
     ]
    },
    {
     "name": "stderr",
     "output_type": "stream",
     "text": [
      "/usr/local/lib/python3.11/dist-packages/sklearn/metrics/_classification.py:1344: UndefinedMetricWarning: Precision and F-score are ill-defined and being set to 0.0 in labels with no predicted samples. Use `zero_division` parameter to control this behavior.\n",
      "  _warn_prf(average, modifier, msg_start, len(result))\n",
      "/usr/local/lib/python3.11/dist-packages/sklearn/metrics/_classification.py:1344: UndefinedMetricWarning: Precision and F-score are ill-defined and being set to 0.0 in labels with no predicted samples. Use `zero_division` parameter to control this behavior.\n",
      "  _warn_prf(average, modifier, msg_start, len(result))\n",
      "/usr/local/lib/python3.11/dist-packages/sklearn/metrics/_classification.py:1344: UndefinedMetricWarning: Precision and F-score are ill-defined and being set to 0.0 in labels with no predicted samples. Use `zero_division` parameter to control this behavior.\n",
      "  _warn_prf(average, modifier, msg_start, len(result))\n"
     ]
    }
   ],
   "source": [
    "y_pred = nb_classifier.predict(X_test_vectorized)\n",
    "\n",
    "accuracy = accuracy_score(y_test, y_pred)\n",
    "classification_rep = classification_report(y_test, y_pred)\n",
    "\n",
    "print(accuracy)\n",
    "print(classification_rep)"
   ]
  },
  {
   "cell_type": "markdown",
   "id": "65f9de18",
   "metadata": {
    "papermill": {
     "duration": 0.004603,
     "end_time": "2025-04-26T05:20:20.953952",
     "exception": false,
     "start_time": "2025-04-26T05:20:20.949349",
     "status": "completed"
    },
    "tags": []
   },
   "source": [
    "# Confusion Matrix"
   ]
  },
  {
   "cell_type": "code",
   "execution_count": 14,
   "id": "583c0261",
   "metadata": {
    "execution": {
     "iopub.execute_input": "2025-04-26T05:20:20.964310Z",
     "iopub.status.busy": "2025-04-26T05:20:20.963995Z",
     "iopub.status.idle": "2025-04-26T05:20:21.299668Z",
     "shell.execute_reply": "2025-04-26T05:20:21.298806Z"
    },
    "papermill": {
     "duration": 0.342513,
     "end_time": "2025-04-26T05:20:21.301076",
     "exception": false,
     "start_time": "2025-04-26T05:20:20.958563",
     "status": "completed"
    },
    "tags": []
   },
   "outputs": [
    {
     "data": {
      "image/png": "[encoded data removed]",
      "text/plain": [
       "<Figure size 800x600 with 2 Axes>"
      ]
     },
     "metadata": {},
     "output_type": "display_data"
    }
   ],
   "source": [
    "cm = confusion_matrix(y_test, y_pred)\n",
    "\n",
    "fig, ax = plt.subplots(figsize=(8, 6))\n",
    "im = ax.imshow(cm, interpolation='nearest', cmap=plt.cm.Blues)\n",
    "ax.figure.colorbar(im, ax=ax)\n",
    "\n",
    "ax.set(\n",
    "    xticks=np.arange(cm.shape[1]),\n",
    "    yticks=np.arange(cm.shape[0]),\n",
    "    xticklabels=nb_classifier.classes_,\n",
    "    yticklabels=nb_classifier.classes_,\n",
    "    title='Confusion Matrix',\n",
    "    ylabel='True Label',\n",
    "    xlabel='Predicted'\n",
    ")\n",
    "\n",
    "plt.setp(ax.get_xticklabels(), rotation=45, ha=\"right\", rotation_mode=\"anchor\")\n",
    "\n",
    "fmt = 'd'\n",
    "thresh = cm.max() / 2.\n",
    "for i in range(cm.shape[0]):\n",
    "    for j in range(cm.shape[1]):\n",
    "        ax.text(\n",
    "            j, i, format(cm[i, j], fmt),\n",
    "            ha=\"center\", va=\"center\",\n",
    "            color=\"white\" if cm[i, j] > thresh else \"black\"\n",
    "        )\n",
    "\n",
    "fig.tight_layout()\n",
    "plt.show()\n"
   ]
  },
  {
   "cell_type": "code",
   "execution_count": null,
   "id": "3b587470",
   "metadata": {
    "papermill": {
     "duration": 0.005566,
     "end_time": "2025-04-26T05:20:21.312631",
     "exception": false,
     "start_time": "2025-04-26T05:20:21.307065",
     "status": "completed"
    },
    "tags": []
   },
   "outputs": [],
   "source": []
  }
 ],
 "metadata": {
  "kaggle": {
   "accelerator": "none",
   "dataSources": [
    {
     "datasetId": 4420054,
     "sourceId": 7593818,
     "sourceType": "datasetVersion"
    }
   ],
   "dockerImageVersionId": 31012,
   "isGpuEnabled": false,
   "isInternetEnabled": true,
   "language": "python",
   "sourceType": "notebook"
  },
  "kernelspec": {
   "display_name": "Python 3",
   "language": "python",
   "name": "python3"
  },
  "language_info": {
   "codemirror_mode": {
    "name": "ipython",
    "version": 3
   },
   "file_extension": ".py",
   "mimetype": "text/x-python",
   "name": "python",
   "nbconvert_exporter": "python",
   "pygments_lexer": "ipython3",
   "version": "3.11.11"
  },
  "papermill": {
   "default_parameters": {},
   "duration": 14.929545,
   "end_time": "2025-04-26T05:20:22.340542",
   "environment_variables": {},
   "exception": null,
   "input_path": "__notebook__.ipynb",
   "output_path": "__notebook__.ipynb",
   "parameters": {},
   "start_time": "2025-04-26T05:20:07.410997",
   "version": "2.6.0"
  }
 },
 "nbformat": 4,
 "nbformat_minor": 5
}
